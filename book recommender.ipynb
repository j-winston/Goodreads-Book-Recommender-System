{
 "cells": [
  {
   "cell_type": "code",
   "execution_count": 8,
   "id": "63357c87-b4cf-4394-8619-bf891c91f7a4",
   "metadata": {},
   "outputs": [],
   "source": [
    "# our json file is too large, let's stream it\n",
    "import gzip\n",
    "with gzip.open(\"goodreads_books.json.gz\", 'r') as f:\n",
    "    line = f.readline()\n",
    "    "
   ]
  },
  {
   "cell_type": "code",
   "execution_count": 9,
   "id": "019dfc44-806d-4b4b-9b30-c76f2b6fbd0b",
   "metadata": {},
   "outputs": [
    {
     "data": {
      "text/plain": [
       "b'{\"isbn\": \"0312853122\", \"text_reviews_count\": \"1\", \"series\": [], \"country_code\": \"US\", \"language_code\": \"\", \"popular_shelves\": [{\"count\": \"3\", \"name\": \"to-read\"}, {\"count\": \"1\", \"name\": \"p\"}, {\"count\": \"1\", \"name\": \"collection\"}, {\"count\": \"1\", \"name\": \"w-c-fields\"}, {\"count\": \"1\", \"name\": \"biography\"}], \"asin\": \"\", \"is_ebook\": \"false\", \"average_rating\": \"4.00\", \"kindle_asin\": \"\", \"similar_books\": [], \"description\": \"\", \"format\": \"Paperback\", \"link\": \"https://www.goodreads.com/book/show/5333265-w-c-fields\", \"authors\": [{\"author_id\": \"604031\", \"role\": \"\"}], \"publisher\": \"St. Martin\\'s Press\", \"num_pages\": \"256\", \"publication_day\": \"1\", \"isbn13\": \"9780312853129\", \"publication_month\": \"9\", \"edition_information\": \"\", \"publication_year\": \"1984\", \"url\": \"https://www.goodreads.com/book/show/5333265-w-c-fields\", \"image_url\": \"https://images.gr-assets.com/books/1310220028m/5333265.jpg\", \"book_id\": \"5333265\", \"ratings_count\": \"3\", \"work_id\": \"5400751\", \"title\": \"W.C. Fields: A Life on Film\", \"title_without_series\": \"W.C. Fields: A Life on Film\"}\\n'"
      ]
     },
     "execution_count": 9,
     "metadata": {},
     "output_type": "execute_result"
    }
   ],
   "source": [
    "line"
   ]
  },
  {
   "cell_type": "code",
   "execution_count": 11,
   "id": "6ec5c21a-9f00-4196-bc29-4751d23b7bfa",
   "metadata": {},
   "outputs": [
    {
     "data": {
      "text/plain": [
       "{'isbn': '0312853122',\n",
       " 'text_reviews_count': '1',\n",
       " 'series': [],\n",
       " 'country_code': 'US',\n",
       " 'language_code': '',\n",
       " 'popular_shelves': [{'count': '3', 'name': 'to-read'},\n",
       "  {'count': '1', 'name': 'p'},\n",
       "  {'count': '1', 'name': 'collection'},\n",
       "  {'count': '1', 'name': 'w-c-fields'},\n",
       "  {'count': '1', 'name': 'biography'}],\n",
       " 'asin': '',\n",
       " 'is_ebook': 'false',\n",
       " 'average_rating': '4.00',\n",
       " 'kindle_asin': '',\n",
       " 'similar_books': [],\n",
       " 'description': '',\n",
       " 'format': 'Paperback',\n",
       " 'link': 'https://www.goodreads.com/book/show/5333265-w-c-fields',\n",
       " 'authors': [{'author_id': '604031', 'role': ''}],\n",
       " 'publisher': \"St. Martin's Press\",\n",
       " 'num_pages': '256',\n",
       " 'publication_day': '1',\n",
       " 'isbn13': '9780312853129',\n",
       " 'publication_month': '9',\n",
       " 'edition_information': '',\n",
       " 'publication_year': '1984',\n",
       " 'url': 'https://www.goodreads.com/book/show/5333265-w-c-fields',\n",
       " 'image_url': 'https://images.gr-assets.com/books/1310220028m/5333265.jpg',\n",
       " 'book_id': '5333265',\n",
       " 'ratings_count': '3',\n",
       " 'work_id': '5400751',\n",
       " 'title': 'W.C. Fields: A Life on Film',\n",
       " 'title_without_series': 'W.C. Fields: A Life on Film'}"
      ]
     },
     "execution_count": 11,
     "metadata": {},
     "output_type": "execute_result"
    }
   ],
   "source": [
    "# load single line from json file as a python dictionary, we'll scale this up\n",
    "import json\n",
    "json.loads(line)"
   ]
  },
  {
   "cell_type": "code",
   "execution_count": 22,
   "id": "d702a3b7-8de9-4374-92fa-92db7b719a2d",
   "metadata": {},
   "outputs": [],
   "source": [
    "def parse_fields(line):\n",
    "    data = json.loads(line)\n",
    "    return {\n",
    "        \"book_id\" : data[\"book_id\"],\n",
    "        \"title\" : data['title_without_series'],\n",
    "        'ratings': data['ratings_count'],\n",
    "        'url': data['url'],\n",
    "        'cover_image': data['image_url'],\n",
    "    }\n",
    "\n",
    "        \n",
    "        "
   ]
  },
  {
   "cell_type": "code",
   "execution_count": 16,
   "id": "3866e790-2ca7-4d22-9b43-ef3255cc1bb3",
   "metadata": {},
   "outputs": [],
   "source": [
    "# we are cutting down on our data size by working with a smaller subset\n",
    "# and filtering books < 15 ratings\n",
    "books_titles = []\n",
    "with gzip.open(\"goodreads_books.json.gz\") as f:\n",
    "    while True:\n",
    "        # read ia single line from our json\n",
    "        line = f.readline()\n",
    "        if not line:\n",
    "            break\n",
    "        # returns a dictionary of selected fields\n",
    "        fields = parse_fields(line)\n",
    "        \n",
    "        try: # many books have zero ratings, so keep going on ValueError\n",
    "            ratings = int(fields['ratings'])\n",
    "        except ValueError:\n",
    "            continue\n",
    "            # finally, we only want books with more than 15 reviews\n",
    "        if ratings > 15:\n",
    "            books_titles.append(fields)\n",
    "        \n",
    "            \n",
    "            \n",
    "            \n",
    "            \n",
    "        \n",
    "        "
   ]
  },
  {
   "cell_type": "code",
   "execution_count": 41,
   "id": "ec428928-6fa4-489e-9116-61035d82c49b",
   "metadata": {},
   "outputs": [
    {
     "data": {
      "text/plain": [
       "{'book_id': '7327624',\n",
       " 'title': 'The Unschooled Wizard (Sun Wolf and Starhawk, #1-2)',\n",
       " 'ratings': '140',\n",
       " 'url': 'https://www.goodreads.com/book/show/7327624-the-unschooled-wizard',\n",
       " 'cover_image': 'https://images.gr-assets.com/books/1304100136m/7327624.jpg'}"
      ]
     },
     "execution_count": 41,
     "metadata": {},
     "output_type": "execute_result"
    }
   ],
   "source": [
    "books_titles[0]"
   ]
  },
  {
   "cell_type": "code",
   "execution_count": 48,
   "id": "ba4559de-a220-4bb4-821c-b204be4bcabf",
   "metadata": {},
   "outputs": [],
   "source": [
    "# turns each dictionary into a row in dataframe\n",
    "titles = pd.DataFrame.from_dict(books_titles)"
   ]
  },
  {
   "cell_type": "code",
   "execution_count": 55,
   "id": "46a13158-aae7-495d-a234-620ebd1d7526",
   "metadata": {},
   "outputs": [],
   "source": [
    "# turn titles_ratings into a numerical column\n",
    "titles['ratings'] = pd.to_numeric(titles['ratings'])"
   ]
  },
  {
   "cell_type": "code",
   "execution_count": 64,
   "id": "b80a427a-f26e-41b1-81db-42c2a77e3c5e",
   "metadata": {},
   "outputs": [],
   "source": [
    "# replace (get rid of) any character that does not fall within regular expression\n",
    "titles['mod_title'] = titles['title'].str.replace(\"[^a-zA-Z0-9 ]\", \"\",regex=True)"
   ]
  },
  {
   "cell_type": "code",
   "execution_count": 70,
   "id": "69852c69-3d11-49ab-9e1f-bba315233d03",
   "metadata": {},
   "outputs": [],
   "source": [
    "# make every title all lowercase to reduce search space\n",
    "titles['mod_title'] = titles['mod_title'].str.lower()"
   ]
  },
  {
   "cell_type": "code",
   "execution_count": 78,
   "id": "d4940475-4497-4e24-a42c-69c277e52f52",
   "metadata": {},
   "outputs": [],
   "source": [
    "# remove any instances of multiple spaces and replace with single space\n",
    "titles['mod_title'] = titles['mod_title'].str.replace(\"\\s+\", \" \", regex=True)"
   ]
  },
  {
   "cell_type": "code",
   "execution_count": 229,
   "id": "bc5a1608-85f9-4024-a489-2dac8a6ea2a1",
   "metadata": {},
   "outputs": [
    {
     "data": {
      "text/html": [
       "<div>\n",
       "<style scoped>\n",
       "    .dataframe tbody tr th:only-of-type {\n",
       "        vertical-align: middle;\n",
       "    }\n",
       "\n",
       "    .dataframe tbody tr th {\n",
       "        vertical-align: top;\n",
       "    }\n",
       "\n",
       "    .dataframe thead th {\n",
       "        text-align: right;\n",
       "    }\n",
       "</style>\n",
       "<table border=\"1\" class=\"dataframe\">\n",
       "  <thead>\n",
       "    <tr style=\"text-align: right;\">\n",
       "      <th></th>\n",
       "      <th>book_id</th>\n",
       "      <th>title</th>\n",
       "      <th>ratings</th>\n",
       "      <th>url</th>\n",
       "      <th>cover_image</th>\n",
       "      <th>mod_title</th>\n",
       "    </tr>\n",
       "  </thead>\n",
       "  <tbody>\n",
       "    <tr>\n",
       "      <th>0</th>\n",
       "      <td>7327624</td>\n",
       "      <td>The Unschooled Wizard (Sun Wolf and Starhawk, ...</td>\n",
       "      <td>140.0</td>\n",
       "      <td>https://www.goodreads.com/book/show/7327624-th...</td>\n",
       "      <td>https://images.gr-assets.com/books/1304100136m...</td>\n",
       "      <td>the unschooled wizard sun wolf and starhawk 12</td>\n",
       "    </tr>\n",
       "    <tr>\n",
       "      <th>1</th>\n",
       "      <td>6066819</td>\n",
       "      <td>Best Friends Forever</td>\n",
       "      <td>51184.0</td>\n",
       "      <td>https://www.goodreads.com/book/show/6066819-be...</td>\n",
       "      <td>https://s.gr-assets.com/assets/nophoto/book/11...</td>\n",
       "      <td>best friends forever</td>\n",
       "    </tr>\n",
       "    <tr>\n",
       "      <th>2</th>\n",
       "      <td>287141</td>\n",
       "      <td>The Aeneid for Boys and Girls</td>\n",
       "      <td>46.0</td>\n",
       "      <td>https://www.goodreads.com/book/show/287141.The...</td>\n",
       "      <td>https://s.gr-assets.com/assets/nophoto/book/11...</td>\n",
       "      <td>the aeneid for boys and girls</td>\n",
       "    </tr>\n",
       "    <tr>\n",
       "      <th>3</th>\n",
       "      <td>6066812</td>\n",
       "      <td>All's Fairy in Love and War (Avalon: Web of Ma...</td>\n",
       "      <td>98.0</td>\n",
       "      <td>https://www.goodreads.com/book/show/6066812-al...</td>\n",
       "      <td>https://images.gr-assets.com/books/1316637798m...</td>\n",
       "      <td>alls fairy in love and war avalon web of magic 8</td>\n",
       "    </tr>\n",
       "    <tr>\n",
       "      <th>4</th>\n",
       "      <td>287149</td>\n",
       "      <td>The Devil's Notebook</td>\n",
       "      <td>986.0</td>\n",
       "      <td>https://www.goodreads.com/book/show/287149.The...</td>\n",
       "      <td>https://images.gr-assets.com/books/1328768789m...</td>\n",
       "      <td>the devils notebook</td>\n",
       "    </tr>\n",
       "  </tbody>\n",
       "</table>\n",
       "</div>"
      ],
      "text/plain": [
       "   book_id                                              title  ratings  \\\n",
       "0  7327624  The Unschooled Wizard (Sun Wolf and Starhawk, ...    140.0   \n",
       "1  6066819                               Best Friends Forever  51184.0   \n",
       "2   287141                      The Aeneid for Boys and Girls     46.0   \n",
       "3  6066812  All's Fairy in Love and War (Avalon: Web of Ma...     98.0   \n",
       "4   287149                               The Devil's Notebook    986.0   \n",
       "\n",
       "                                                 url  \\\n",
       "0  https://www.goodreads.com/book/show/7327624-th...   \n",
       "1  https://www.goodreads.com/book/show/6066819-be...   \n",
       "2  https://www.goodreads.com/book/show/287141.The...   \n",
       "3  https://www.goodreads.com/book/show/6066812-al...   \n",
       "4  https://www.goodreads.com/book/show/287149.The...   \n",
       "\n",
       "                                         cover_image  \\\n",
       "0  https://images.gr-assets.com/books/1304100136m...   \n",
       "1  https://s.gr-assets.com/assets/nophoto/book/11...   \n",
       "2  https://s.gr-assets.com/assets/nophoto/book/11...   \n",
       "3  https://images.gr-assets.com/books/1316637798m...   \n",
       "4  https://images.gr-assets.com/books/1328768789m...   \n",
       "\n",
       "                                          mod_title  \n",
       "0    the unschooled wizard sun wolf and starhawk 12  \n",
       "1                              best friends forever  \n",
       "2                     the aeneid for boys and girls  \n",
       "3  alls fairy in love and war avalon web of magic 8  \n",
       "4                               the devils notebook  "
      ]
     },
     "execution_count": 229,
     "metadata": {},
     "output_type": "execute_result"
    }
   ],
   "source": [
    "titles.head()"
   ]
  },
  {
   "cell_type": "code",
   "execution_count": 230,
   "id": "1ff2e009-acfb-451c-ba60-d2a8d652ab4c",
   "metadata": {},
   "outputs": [],
   "source": [
    "# let's also remove any row that has less than 1 character\n",
    "titles = titles[titles['mod_title'].str.len() > 0]"
   ]
  },
  {
   "cell_type": "code",
   "execution_count": 231,
   "id": "6b6ff5ef-292e-4ad6-b42f-ab41d75db9c1",
   "metadata": {},
   "outputs": [],
   "source": [
    "# so we can use this in future \n",
    "titles.to_json('books_titles.json')"
   ]
  },
  {
   "cell_type": "markdown",
   "id": "66667c87-cf85-45c0-bb26-9b93ceb64dcf",
   "metadata": {},
   "source": [
    "### Building Our Search Engine"
   ]
  },
  {
   "cell_type": "markdown",
   "id": "1cb7d95d-f545-48f1-848c-d4508c89554b",
   "metadata": {},
   "source": [
    "Now that we have our dataset within our pandas dataframe, we can build a simple term frequency-inverse document frequency search engine."
   ]
  },
  {
   "cell_type": "code",
   "execution_count": 277,
   "id": "21685fa4-1c36-4790-9b80-119692f9cb02",
   "metadata": {},
   "outputs": [],
   "source": [
    "from sklearn.feature_extraction.text import TfidfVectorizer\n",
    "vectorizer = TfidfVectorizer()\n",
    "\n",
    "# transform our cleaned titles column into vector form \n",
    "tfidf = vectorizer.fit_transform(titles['mod_title'])"
   ]
  },
  {
   "cell_type": "code",
   "execution_count": 298,
   "id": "4c622852-0218-4fe7-922f-8522c126ad81",
   "metadata": {},
   "outputs": [],
   "source": [
    "from sklearn.metrics.pairwise import cosine_similarity\n",
    "import numpy as np\n",
    "import re\n",
    "\n",
    "# this will allow us to click on the goodreads link to the book to verify title\n",
    "def make_clickable(val):\n",
    "    return '<a target=\"_blank\" href=\"{}\">Goodreads</a>'.format(val)\n",
    "\n",
    "# display cover image of book\n",
    "def show_image(val):\n",
    "    return '<img src=\"{}\" width=50></img>'.format(val)\n",
    "\n",
    "def search(query,vectorizer):\n",
    "    # process our query, removing extraneous characters and caps\n",
    "    processed = re.sub(\"[^a-zA-Z0-9 ]\", \"\", query.lower())\n",
    "    # turn our query into a vector \n",
    "    query_vec = vectorizer.transform([processed])\n",
    "    # search our tfidf for our query\n",
    "    similarity = cosine_similarity(query_vec, tfidf).flatten()\n",
    "    # find the largest similarities \n",
    "    indices = np.argpartition(similarity,-10)[-10:]\n",
    "    # use our indices to index titles\n",
    "    results = titles.iloc[indices]\n",
    "    # sort values and assign only the row with the highest number of ratings\n",
    "    results = results.sort_values(by='ratings', ascending=False)\n",
    "    # return top 5 results\n",
    "    return results.head(5).style.format({'url': make_clickable, 'cover_image': show_image})\n",
    "    "
   ]
  },
  {
   "cell_type": "code",
   "execution_count": 304,
   "id": "d46571c3-846b-44e1-8f8c-2e91519b8778",
   "metadata": {},
   "outputs": [
    {
     "data": {
      "text/html": [
       "<style type=\"text/css\">\n",
       "</style>\n",
       "<table id=\"T_b9486_\">\n",
       "  <thead>\n",
       "    <tr>\n",
       "      <th class=\"blank level0\" >&nbsp;</th>\n",
       "      <th class=\"col_heading level0 col0\" >book_id</th>\n",
       "      <th class=\"col_heading level0 col1\" >title</th>\n",
       "      <th class=\"col_heading level0 col2\" >ratings</th>\n",
       "      <th class=\"col_heading level0 col3\" >url</th>\n",
       "      <th class=\"col_heading level0 col4\" >cover_image</th>\n",
       "      <th class=\"col_heading level0 col5\" >mod_title</th>\n",
       "    </tr>\n",
       "  </thead>\n",
       "  <tbody>\n",
       "    <tr>\n",
       "      <th id=\"T_b9486_level0_row0\" class=\"row_heading level0 row0\" >861957</th>\n",
       "      <td id=\"T_b9486_row0_col0\" class=\"data row0 col0\" >213030</td>\n",
       "      <td id=\"T_b9486_row0_col1\" class=\"data row0 col1\" >Machine Learning</td>\n",
       "      <td id=\"T_b9486_row0_col2\" class=\"data row0 col2\" >446.000000</td>\n",
       "      <td id=\"T_b9486_row0_col3\" class=\"data row0 col3\" ><a target=\"_blank\" href=\"https://www.goodreads.com/book/show/213030.Machine_Learning\">Goodreads</a></td>\n",
       "      <td id=\"T_b9486_row0_col4\" class=\"data row0 col4\" ><img src=\"https://s.gr-assets.com/assets/nophoto/book/111x148-bcc042a9c91a29c1d680899eff700a03.png\" width=50></img></td>\n",
       "      <td id=\"T_b9486_row0_col5\" class=\"data row0 col5\" >machine learning</td>\n",
       "    </tr>\n",
       "    <tr>\n",
       "      <th id=\"T_b9486_level0_row1\" class=\"row_heading level0 row1\" >941049</th>\n",
       "      <td id=\"T_b9486_row1_col0\" class=\"data row1 col0\" >25545994</td>\n",
       "      <td id=\"T_b9486_row1_col1\" class=\"data row1 col1\" >Python Machine Learning</td>\n",
       "      <td id=\"T_b9486_row1_col2\" class=\"data row1 col2\" >188.000000</td>\n",
       "      <td id=\"T_b9486_row1_col3\" class=\"data row1 col3\" ><a target=\"_blank\" href=\"https://www.goodreads.com/book/show/25545994-python-machine-learning\">Goodreads</a></td>\n",
       "      <td id=\"T_b9486_row1_col4\" class=\"data row1 col4\" ><img src=\"https://images.gr-assets.com/books/1437797728m/25545994.jpg\" width=50></img></td>\n",
       "      <td id=\"T_b9486_row1_col5\" class=\"data row1 col5\" >python machine learning</td>\n",
       "    </tr>\n",
       "    <tr>\n",
       "      <th id=\"T_b9486_level0_row2\" class=\"row_heading level0 row2\" >268418</th>\n",
       "      <td id=\"T_b9486_row2_col0\" class=\"data row2 col0\" >32899495</td>\n",
       "      <td id=\"T_b9486_row2_col1\" class=\"data row2 col1\" >Hands-On Machine Learning with Scikit-Learn and TensorFlow</td>\n",
       "      <td id=\"T_b9486_row2_col2\" class=\"data row2 col2\" >81.000000</td>\n",
       "      <td id=\"T_b9486_row2_col3\" class=\"data row2 col3\" ><a target=\"_blank\" href=\"https://www.goodreads.com/book/show/32899495-hands-on-machine-learning-with-scikit-learn-and-tensorflow\">Goodreads</a></td>\n",
       "      <td id=\"T_b9486_row2_col4\" class=\"data row2 col4\" ><img src=\"https://images.gr-assets.com/books/1478536137m/32899495.jpg\" width=50></img></td>\n",
       "      <td id=\"T_b9486_row2_col5\" class=\"data row2 col5\" >handson machine learning with scikitlearn and tensorflow</td>\n",
       "    </tr>\n",
       "    <tr>\n",
       "      <th id=\"T_b9486_level0_row3\" class=\"row_heading level0 row3\" >327118</th>\n",
       "      <td id=\"T_b9486_row3_col0\" class=\"data row3 col0\" >18453708</td>\n",
       "      <td id=\"T_b9486_row3_col1\" class=\"data row3 col1\" >Hands-on Justice</td>\n",
       "      <td id=\"T_b9486_row3_col2\" class=\"data row3 col2\" >76.000000</td>\n",
       "      <td id=\"T_b9486_row3_col3\" class=\"data row3 col3\" ><a target=\"_blank\" href=\"https://www.goodreads.com/book/show/18453708-hands-on-justice\">Goodreads</a></td>\n",
       "      <td id=\"T_b9486_row3_col4\" class=\"data row3 col4\" ><img src=\"https://images.gr-assets.com/books/1378196736m/18453708.jpg\" width=50></img></td>\n",
       "      <td id=\"T_b9486_row3_col5\" class=\"data row3 col5\" >handson justice</td>\n",
       "    </tr>\n",
       "    <tr>\n",
       "      <th id=\"T_b9486_level0_row4\" class=\"row_heading level0 row4\" >488557</th>\n",
       "      <td id=\"T_b9486_row4_col0\" class=\"data row4 col0\" >18859629</td>\n",
       "      <td id=\"T_b9486_row4_col1\" class=\"data row4 col1\" >Machine Learning with R</td>\n",
       "      <td id=\"T_b9486_row4_col2\" class=\"data row4 col2\" >71.000000</td>\n",
       "      <td id=\"T_b9486_row4_col3\" class=\"data row4 col3\" ><a target=\"_blank\" href=\"https://www.goodreads.com/book/show/18859629-machine-learning-with-r\">Goodreads</a></td>\n",
       "      <td id=\"T_b9486_row4_col4\" class=\"data row4 col4\" ><img src=\"https://images.gr-assets.com/books/1395601758m/18859629.jpg\" width=50></img></td>\n",
       "      <td id=\"T_b9486_row4_col5\" class=\"data row4 col5\" >machine learning with r</td>\n",
       "    </tr>\n",
       "  </tbody>\n",
       "</table>\n"
      ],
      "text/plain": [
       "<pandas.io.formats.style.Styler at 0x21051302130>"
      ]
     },
     "execution_count": 304,
     "metadata": {},
     "output_type": "execute_result"
    }
   ],
   "source": [
    "search('hands-on machine learning',vectorizer)"
   ]
  },
  {
   "cell_type": "markdown",
   "id": "de54b063-ea18-4158-912b-c84986e2db00",
   "metadata": {},
   "source": [
    "#### Creating a List of Liked Books Using `book_id`\n"
   ]
  },
  {
   "cell_type": "markdown",
   "id": "03da29e7-ee83-46b4-88ff-38d66031f437",
   "metadata": {},
   "source": [
    "Next, we will choose a series of books using `book_id` to feed to our recommender system. Here I chose 'East of Eden', 'The Road', 'The Physics of Consciousness', and 'Hands on Machine Learning', of course!"
   ]
  },
  {
   "cell_type": "code",
   "execution_count": 305,
   "id": "6e4be4a2-6026-4fd3-9cbc-b97c51d709d3",
   "metadata": {},
   "outputs": [],
   "source": [
    "liked_books = ['8132407','850062','1325218','306982','32899495'] # east of eden, physics of consciousness, the road, etc"
   ]
  },
  {
   "cell_type": "markdown",
   "id": "e70bd15a-8380-4ba5-bf95-e6d778f9509a",
   "metadata": {},
   "source": [
    "### Exploring Book Rating Data"
   ]
  },
  {
   "cell_type": "code",
   "execution_count": null,
   "id": "bf0ac3bc-c053-4b72-b058-6da834f8e512",
   "metadata": {},
   "outputs": [],
   "source": []
  }
 ],
 "metadata": {
  "kernelspec": {
   "display_name": "Python 3 (ipykernel)",
   "language": "python",
   "name": "python3"
  },
  "language_info": {
   "codemirror_mode": {
    "name": "ipython",
    "version": 3
   },
   "file_extension": ".py",
   "mimetype": "text/x-python",
   "name": "python",
   "nbconvert_exporter": "python",
   "pygments_lexer": "ipython3",
   "version": "3.9.7"
  }
 },
 "nbformat": 4,
 "nbformat_minor": 5
}
